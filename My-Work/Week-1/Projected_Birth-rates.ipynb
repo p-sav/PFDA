{
 "cells": [
  {
   "cell_type": "markdown",
   "id": "f599204f-0f0a-41a1-a11e-56664ef301ca",
   "metadata": {},
   "source": [
    "\n",
    "#### **Projected Birth-rates - Jupyter Notebook**\n",
    "In this notebook, I will load the CSO projected birth-rates dataset, inspect its variables, automatically detect the relevant columns, clean the data, and generate a clear plot of projected birth rates in Ireland over time.\n",
    "\n",
    "\n",
    "---\n",
    "\n",
    "\n",
    "#### **Importing the Necessary Libraries**\n",
    "To work with the dataset, pandas will be used for handling data and matplotlib for plotting. Pandas provide convenient tools for reading, cleaning, and analyzing tabular data, while matplotlib allows enables the ability to create flexible and informative visualizations.\n"
   ]
  },
  {
   "cell_type": "code",
   "execution_count": 8,
   "id": "3a2e7abf",
   "metadata": {},
   "outputs": [],
   "source": [
    "%matplotlib inline\n",
    "import pandas as pd                 # Pandas library for data manipulation\n",
    "import matplotlib.pyplot as plt     # Matplotlib for plotting\n"
   ]
  },
  {
   "cell_type": "markdown",
   "id": "26f20672",
   "metadata": {},
   "source": [
    "#### **Load the Dataset**\n",
    "\n",
    "The next step is to load the file projectedbirths-cso.csv, which contains the projected number or rate of births in Ireland."
   ]
  },
  {
   "cell_type": "code",
   "execution_count": 9,
   "id": "983b7c36",
   "metadata": {},
   "outputs": [
    {
     "data": {
      "text/html": [
       "<div>\n",
       "<style scoped>\n",
       "    .dataframe tbody tr th:only-of-type {\n",
       "        vertical-align: middle;\n",
       "    }\n",
       "\n",
       "    .dataframe tbody tr th {\n",
       "        vertical-align: top;\n",
       "    }\n",
       "\n",
       "    .dataframe thead th {\n",
       "        text-align: right;\n",
       "    }\n",
       "</style>\n",
       "<table border=\"1\" class=\"dataframe\">\n",
       "  <thead>\n",
       "    <tr style=\"text-align: right;\">\n",
       "      <th></th>\n",
       "      <th>Statistic Label</th>\n",
       "      <th>Year</th>\n",
       "      <th>Sex</th>\n",
       "      <th>Criteria for Projection</th>\n",
       "      <th>UNIT</th>\n",
       "      <th>VALUE</th>\n",
       "    </tr>\n",
       "  </thead>\n",
       "  <tbody>\n",
       "    <tr>\n",
       "      <th>0</th>\n",
       "      <td>Projected Annual Births</td>\n",
       "      <td>2023</td>\n",
       "      <td>Both sexes</td>\n",
       "      <td>Method - M1</td>\n",
       "      <td>Number</td>\n",
       "      <td>57537</td>\n",
       "    </tr>\n",
       "    <tr>\n",
       "      <th>1</th>\n",
       "      <td>Projected Annual Births</td>\n",
       "      <td>2024</td>\n",
       "      <td>Both sexes</td>\n",
       "      <td>Method - M1</td>\n",
       "      <td>Number</td>\n",
       "      <td>55528</td>\n",
       "    </tr>\n",
       "    <tr>\n",
       "      <th>2</th>\n",
       "      <td>Projected Annual Births</td>\n",
       "      <td>2025</td>\n",
       "      <td>Both sexes</td>\n",
       "      <td>Method - M1</td>\n",
       "      <td>Number</td>\n",
       "      <td>55292</td>\n",
       "    </tr>\n",
       "    <tr>\n",
       "      <th>3</th>\n",
       "      <td>Projected Annual Births</td>\n",
       "      <td>2026</td>\n",
       "      <td>Both sexes</td>\n",
       "      <td>Method - M1</td>\n",
       "      <td>Number</td>\n",
       "      <td>55032</td>\n",
       "    </tr>\n",
       "    <tr>\n",
       "      <th>4</th>\n",
       "      <td>Projected Annual Births</td>\n",
       "      <td>2027</td>\n",
       "      <td>Both sexes</td>\n",
       "      <td>Method - M1</td>\n",
       "      <td>Number</td>\n",
       "      <td>54462</td>\n",
       "    </tr>\n",
       "  </tbody>\n",
       "</table>\n",
       "</div>"
      ],
      "text/plain": [
       "           Statistic Label  Year         Sex Criteria for Projection    UNIT  \\\n",
       "0  Projected Annual Births  2023  Both sexes             Method - M1  Number   \n",
       "1  Projected Annual Births  2024  Both sexes             Method - M1  Number   \n",
       "2  Projected Annual Births  2025  Both sexes             Method - M1  Number   \n",
       "3  Projected Annual Births  2026  Both sexes             Method - M1  Number   \n",
       "4  Projected Annual Births  2027  Both sexes             Method - M1  Number   \n",
       "\n",
       "   VALUE  \n",
       "0  57537  \n",
       "1  55528  \n",
       "2  55292  \n",
       "3  55032  \n",
       "4  54462  "
      ]
     },
     "execution_count": 9,
     "metadata": {},
     "output_type": "execute_result"
    }
   ],
   "source": [
    "csv_path = r\"C:\\Users\\CAD-PC\\Desktop\\GitHub - Cloned Repository\\PFDA\\My-Work\\Week-1\\projectedbirths-cso.csv\"  # full path to the CSV file\n",
    "births = pd.read_csv(csv_path)                  # load data into a pandas DataFrame\n",
    "births.head()                                   # preview the first few rows\n"
   ]
  },
  {
   "cell_type": "markdown",
   "id": "f7195f72",
   "metadata": {},
   "source": [
    "#### **Inspect Columns & Data Types**\n",
    "To understand the structure of the dataset, the data needs to be inspected to see what columns are available (for example, Year, Births, or Scenario), the number of entries in each column, and their data types etc.\n",
    "\n",
    "\n"
   ]
  },
  {
   "cell_type": "code",
   "execution_count": 10,
   "id": "507dd274",
   "metadata": {},
   "outputs": [
    {
     "name": "stdout",
     "output_type": "stream",
     "text": [
      "<class 'pandas.core.frame.DataFrame'>\n",
      "RangeIndex: 35 entries, 0 to 34\n",
      "Data columns (total 6 columns):\n",
      " #   Column                   Non-Null Count  Dtype \n",
      "---  ------                   --------------  ----- \n",
      " 0   Statistic Label          35 non-null     object\n",
      " 1   Year                     35 non-null     int64 \n",
      " 2   Sex                      35 non-null     object\n",
      " 3   Criteria for Projection  35 non-null     object\n",
      " 4   UNIT                     35 non-null     object\n",
      " 5   VALUE                    35 non-null     int64 \n",
      "dtypes: int64(2), object(4)\n",
      "memory usage: 1.8+ KB\n"
     ]
    }
   ],
   "source": [
    "\n",
    "births.info()                                   # display dataset structure, column names, and data types"
   ]
  },
  {
   "cell_type": "markdown",
   "id": "f4769400",
   "metadata": {},
   "source": [
    "#### **Inspect Columns & Data Types**\n",
    "Next step is to find which columns contain the year and the birth data. Different files may use slightly different names, so this code checks for common ones automatically."
   ]
  },
  {
   "cell_type": "code",
   "execution_count": 11,
   "id": "91047c5e",
   "metadata": {},
   "outputs": [],
   "source": [
    "year_col = 'Year'                               # year column\n",
    "value_col = 'VALUE'                             # birth-rate or birth count column\n",
    "\n"
   ]
  },
  {
   "cell_type": "markdown",
   "id": "1305b176",
   "metadata": {},
   "source": [
    "#### **Cleaning & Preparing the Data**\n",
    "To make sure the year and birth columns contain numbers only, we'll use `pd.to_numeric()` to convert them into numeric data types. At the same time, also remove any missing values, sort by year, and combine duplicate years (if there are any) by taking their average."
   ]
  },
  {
   "cell_type": "code",
   "execution_count": 12,
   "id": "6c9e02b5",
   "metadata": {},
   "outputs": [
    {
     "data": {
      "text/html": [
       "<div>\n",
       "<style scoped>\n",
       "    .dataframe tbody tr th:only-of-type {\n",
       "        vertical-align: middle;\n",
       "    }\n",
       "\n",
       "    .dataframe tbody tr th {\n",
       "        vertical-align: top;\n",
       "    }\n",
       "\n",
       "    .dataframe thead th {\n",
       "        text-align: right;\n",
       "    }\n",
       "</style>\n",
       "<table border=\"1\" class=\"dataframe\">\n",
       "  <thead>\n",
       "    <tr style=\"text-align: right;\">\n",
       "      <th></th>\n",
       "      <th>Year</th>\n",
       "      <th>VALUE</th>\n",
       "    </tr>\n",
       "  </thead>\n",
       "  <tbody>\n",
       "    <tr>\n",
       "      <th>30</th>\n",
       "      <td>2053</td>\n",
       "      <td>53854.0</td>\n",
       "    </tr>\n",
       "    <tr>\n",
       "      <th>31</th>\n",
       "      <td>2054</td>\n",
       "      <td>53360.0</td>\n",
       "    </tr>\n",
       "    <tr>\n",
       "      <th>32</th>\n",
       "      <td>2055</td>\n",
       "      <td>52839.0</td>\n",
       "    </tr>\n",
       "    <tr>\n",
       "      <th>33</th>\n",
       "      <td>2056</td>\n",
       "      <td>52340.0</td>\n",
       "    </tr>\n",
       "    <tr>\n",
       "      <th>34</th>\n",
       "      <td>2057</td>\n",
       "      <td>51897.0</td>\n",
       "    </tr>\n",
       "  </tbody>\n",
       "</table>\n",
       "</div>"
      ],
      "text/plain": [
       "    Year    VALUE\n",
       "30  2053  53854.0\n",
       "31  2054  53360.0\n",
       "32  2055  52839.0\n",
       "33  2056  52340.0\n",
       "34  2057  51897.0"
      ]
     },
     "execution_count": 12,
     "metadata": {},
     "output_type": "execute_result"
    }
   ],
   "source": [
    "births[year_col] = pd.to_numeric(births[year_col], errors='coerce')   # ensure numeric year\n",
    "births[value_col] = pd.to_numeric(births[value_col], errors='coerce') # ensure numeric values\n",
    "\n",
    "df = births.dropna(subset=[year_col, value_col]).copy()               # remove missing rows\n",
    "df = df.sort_values(year_col)                                         # sort by year\n",
    "df = df.groupby(year_col, as_index=False)[value_col].mean()           # average any duplicates\n",
    "df.tail()                                                             # show last few rows\n"
   ]
  },
  {
   "cell_type": "markdown",
   "id": "7165dda9",
   "metadata": {},
   "source": [
    "#### **Plotting the Projected Birth rates Over Time**\n",
    "Now that the data is clean, a line plot can be used to show how the projected birth-rates change over time"
   ]
  },
  {
   "cell_type": "code",
   "execution_count": 13,
   "id": "79c93504",
   "metadata": {},
   "outputs": [
    {
     "data": {
      "image/png": "[encoded data removed]",
      "text/plain": [
       "<Figure size 1000x600 with 1 Axes>"
      ]
     },
     "metadata": {},
     "output_type": "display_data"
    }
   ],
   "source": [
    "%matplotlib inline\n",
    "plt.figure(figsize=(10, 6))                        # set figure size\n",
    "plt.plot(df[year_col], df[value_col], marker='o')  # plot year vs. birth-rate\n",
    "plt.title(\"Projected Birth-rates in Ireland\")      # chart title\n",
    "plt.xlabel(year_col)                               # x-axis label\n",
    "plt.ylabel(value_col)                              # y-axis label\n",
    "plt.grid(True)                                     # show grid\n",
    "plt.tight_layout()                                 # tidy layout\n",
    "plt.show()                                         # display the plot\n"
   ]
  },
  {
   "cell_type": "markdown",
   "id": "d482f63e",
   "metadata": {},
   "source": [
    "#### **Summary File**\n",
    "Small summary text file showing useful details about the dataset"
   ]
  },
  {
   "cell_type": "code",
   "execution_count": 14,
   "id": "2bf006c9",
   "metadata": {},
   "outputs": [
    {
     "name": "stdout",
     "output_type": "stream",
     "text": [
      "Saved summary to birthrates_summary.txt\n"
     ]
    }
   ],
   "source": [
    "summary = {                                       # store summary info\n",
    "    'rows_original': len(births),                 # total rows before cleaning\n",
    "    'rows_plotted' : len(df),                     # rows used in the final plot\n",
    "    'year_start'   : int(df[year_col].min()),     # first year in dataset\n",
    "    'year_end'     : int(df[year_col].max()),     # last year in dataset\n",
    "    'value_min'    : float(df[value_col].min()),  # smallest value\n",
    "    'value_max'    : float(df[value_col].max()),  # largest value\n",
    "    'value_column' : value_col,                   # name of the value column\n",
    "    'year_column'  : year_col,                    # name of the year column\n",
    "    'source_file'  : csv_path                     # source file path\n",
    "}\n",
    "\n",
    "with open(\"birthrates_summary.txt\", \"w\") as f:    # create a text file\n",
    "    for k, v in summary.items():                  # write each item to a new line\n",
    "        f.write(f\"{k}: {v}\\n\")\n",
    "\n",
    "print(\"Saved summary to birthrates_summary.txt\")  # confirm when done\n"
   ]
  }
 ],
 "metadata": {
  "kernelspec": {
   "display_name": "base",
   "language": "python",
   "name": "python3"
  },
  "language_info": {
   "codemirror_mode": {
    "name": "ipython",
    "version": 3
   },
   "file_extension": ".py",
   "mimetype": "text/x-python",
   "name": "python",
   "nbconvert_exporter": "python",
   "pygments_lexer": "ipython3",
   "version": "3.11.5"
  }
 },
 "nbformat": 4,
 "nbformat_minor": 5
}
