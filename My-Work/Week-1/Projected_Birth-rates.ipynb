{
 "cells": [
  {
   "cell_type": "markdown",
   "id": "0d10aa8b",
   "metadata": {},
   "source": [
    "\n",
    "#### **Part 1 - Projected Birth-rates - Jupyter Notebook**\n",
    "\n",
    "In this notebook, I will load the Iris dataset, analyze its variables, and generate a summary of the dataset. This summary will be saved to a text file. I will go through each step in the process.\n",
    "\n",
    "---\n",
    "\n",
    "\n",
    "#### **Part 1 - Importing the Necessary Libraries**\n",
    "\n",
    "To work with the Iris dataset, we first need to import the necessary library. For this task, we will use `pandas` to handle the tabular data. pandas is a powerful library for data manipulation and analysis. It allows us to easily read, clean, and analyze datasets, especially in tabular form like CSV files."
   ]
  },
  {
   "cell_type": "code",
   "execution_count": null,
   "id": "76e3cd0f",
   "metadata": {},
   "outputs": [],
   "source": [
    "\n",
    "import pandas as pd  # Import pandas for working with tabular data"
   ]
  },
  {
   "cell_type": "markdown",
   "id": "1746aa18",
   "metadata": {},
   "source": [
    "#### **Part 1 - Load the Dataset**\n",
    "\n",
    "The dataset is stored in a CSV file without headers. The csv file will be loaded into a pandas DataFrame using the `read_csv()` function. Headers will automatically be assigned from the first row. \n"
   ]
  },
  {
   "cell_type": "code",
   "execution_count": null,
   "id": "983b7c36",
   "metadata": {},
   "outputs": [],
   "source": [
    "\n",
    "df = pd.read_csv(\"projected_birth_rates.csv\") # Load the Iris dataset from the specified path "
   ]
  },
  {
   "cell_type": "markdown",
   "id": "f7195f72",
   "metadata": {},
   "source": [
    "#### **Part 1 - Generating a summary of the Dataset**\n",
    "\n",
    "The following instruction will generate a summary of the dataset. This will provide a quick overview of the data, including measures like the mean, minimum, maximum, standard deviation, and counts. \n",
    "\n"
   ]
  },
  {
   "cell_type": "code",
   "execution_count": null,
   "id": "507dd274",
   "metadata": {},
   "outputs": [],
   "source": [
    "\n",
    "summary = df.describe(include='all') # df.describe generates summary statistics for numeric columns by default. # include='all' ensures that both numeric and categorical columns (like the species column) are included in the summary."
   ]
  }
 ],
 "metadata": {
  "kernelspec": {
   "display_name": "base",
   "language": "python",
   "name": "python3"
  },
  "language_info": {
   "codemirror_mode": {
    "name": "ipython",
    "version": 3
   },
   "file_extension": ".py",
   "mimetype": "text/x-python",
   "name": "python",
   "nbconvert_exporter": "python",
   "pygments_lexer": "ipython3",
   "version": "3.11.5"
  }
 },
 "nbformat": 4,
 "nbformat_minor": 5
}
