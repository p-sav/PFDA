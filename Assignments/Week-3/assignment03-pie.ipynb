{
 "cells": [
  {
   "cell_type": "markdown",
   "id": "f599204f-0f0a-41a1-a11e-56664ef301ca",
   "metadata": {},
   "source": [
    "\n",
    "#### **Pie Chart - Jupyter Notebook**\n",
    "When you run this notebook, it will load a CSV file containing people’s email addresses, extract their email **domains**, count how many times each occurs, and display the results as a **pie chart**.\n",
    "\n",
    "\n",
    "---\n",
    "\n",
    "\n",
    "#### **Importing the Necessary Libraries**\n",
    "To work with the dataset, pandas will be used for handling data and matplotlib for plotting. Pandas provide convenient tools for reading, cleaning, and analyzing tabular data, while matplotlib allows enables the ability to create flexible and informative visualizations.\n"
   ]
  },
  {
   "cell_type": "code",
   "execution_count": null,
   "id": "3a2e7abf",
   "metadata": {},
   "outputs": [],
   "source": [
    "%matplotlib inline\n",
    "import pandas as pd                 # To handle csv data\n",
    "import matplotlib.pyplot as plt     # To create the pie chart\n"
   ]
  },
  {
   "cell_type": "markdown",
   "id": "26f20672",
   "metadata": {},
   "source": [
    "#### **Load the Dataset**\n",
    "\n",
    "The next step is to load the file people-1000.csv, which contains the required information. This file includes a column with email addresses that will be analyzed"
   ]
  },
  {
   "cell_type": "code",
   "execution_count": null,
   "id": "983b7c36",
   "metadata": {},
   "outputs": [],
   "source": [
    "csv_path = r\"C:\\Users\\CAD-PC\\Desktop\\GitHub - Cloned Repository\\PFDA\\Assignments\\Week-3\\people-1000.csv\"  # full path to the CSV file\n",
    "births = pd.read_csv(csv_path)                  # load data into a pandas DataFrame\n",
    "births.head()                                   # preview the first few rows\n"
   ]
  },
  {
   "cell_type": "markdown",
   "id": "f7195f72",
   "metadata": {},
   "source": [
    "#### **Extracting Email Domains**\n",
    "\n",
    "Here, the column that contains email addresses is found. The **domain** part of each email is extracted (everything after the `@` symbol) and store it in a new column called `domain`.\n",
    "\n",
    "\n",
    "\n"
   ]
  },
  {
   "cell_type": "code",
   "execution_count": null,
   "id": "507dd274",
   "metadata": {},
   "outputs": [],
   "source": [
    "email_col = [c for c in data.columns if 'email' in c.lower()][0]  # detect email column\n",
    "data['domain'] = data[email_col].apply(lambda x: str(x).split('@')[-1])  # extract domain\n",
    "data.head()  # preview the updated DataFrame"
   ]
  },
  {
   "cell_type": "markdown",
   "id": "f4769400",
   "metadata": {},
   "source": [
    "#### **Count unique emaimail domains**\n",
    "Count how many times each email domain appears using the `value_counts()` function. This gives us a summary of which domains are most common in the dataset."
   ]
  },
  {
   "cell_type": "code",
   "execution_count": null,
   "id": "91047c5e",
   "metadata": {},
   "outputs": [],
   "source": [
    "domain_counts = data['domain'].value_counts()   # count occurrences of each domain\n",
    "domain_counts.head(10)                          # display the top 10 most common domains"
   ]
  },
  {
   "cell_type": "markdown",
   "id": "7165dda9",
   "metadata": {},
   "source": [
    "#### **Plotting the Pie Chart**\n",
    "Visualize the distribution of email domains using a pie chart. Each slice of the pie represents a different domain, and the percentages show  \n",
    "how common each one is in the dataset."
   ]
  },
  {
   "cell_type": "code",
   "execution_count": null,
   "id": "79c93504",
   "metadata": {},
   "outputs": [],
   "source": [
    "plt.figure(figsize=(8, 8))                      # set chart size\n",
    "plt.pie(domain_counts, labels=domain_counts.index, autopct='%1.1f%%', startangle=140)\n",
    "plt.title(\"Email Domain Distribution\")          # add title\n",
    "plt.show()                                      # display the pie chart\n"
   ]
  },
  {
   "cell_type": "markdown",
   "id": "d482f63e",
   "metadata": {},
   "source": [
    "#### **Summary File**\n",
    "This notebook read the **people-1000.csv** dataset, extracted email domain names, counted how often each appeared, and plotted the data as a pie chart using matplotlib. The chart makes it easy to see which email providers (like Gmail, Yahoo, or Outlook) are most common among the dataset’s users."
   ]
  }
 ],
 "metadata": {
  "kernelspec": {
   "display_name": "base",
   "language": "python",
   "name": "python3"
  },
  "language_info": {
   "codemirror_mode": {
    "name": "ipython",
    "version": 3
   },
   "file_extension": ".py",
   "mimetype": "text/x-python",
   "name": "python",
   "nbconvert_exporter": "python",
   "pygments_lexer": "ipython3",
   "version": "3.11.5"
  }
 },
 "nbformat": 4,
 "nbformat_minor": 5
}
